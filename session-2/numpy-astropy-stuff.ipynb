{
 "cells": [
  {
   "cell_type": "markdown",
   "metadata": {},
   "source": [
    "# Some tricks to speed up your code with numpy\n",
    "Some of these examples were adapted from the [Losing your Loops Fast Numerical Computing with Numpy](https://www.youtube.com/watch?v=EEUXKG97YRw) by Jake VanderPlas"
   ]
  },
  {
   "cell_type": "code",
   "execution_count": 1,
   "metadata": {},
   "outputs": [],
   "source": [
    "from __future__ import division, print_function\n",
    "\n",
    "import numpy as np\n",
    "import matplotlib.pyplot as plt\n",
    "from random import random"
   ]
  },
  {
   "cell_type": "markdown",
   "metadata": {},
   "source": [
    "# ufuncs"
   ]
  },
  {
   "cell_type": "markdown",
   "metadata": {},
   "source": [
    "Adding a number to all elements of a list"
   ]
  },
  {
   "cell_type": "code",
   "execution_count": 2,
   "metadata": {},
   "outputs": [
    {
     "name": "stdout",
     "output_type": "stream",
     "text": [
      "[17, 14, 15, 16, 19, 16]\n"
     ]
    }
   ],
   "source": [
    "number = 12\n",
    "a = [5, 2, 3, 4, 7, 4]\n",
    "b = []\n",
    "\n",
    "for val in a:\n",
    "    b.append(val + number)\n",
    "\n",
    "print(b)"
   ]
  },
  {
   "cell_type": "markdown",
   "metadata": {},
   "source": [
    "A more pythonic way"
   ]
  },
  {
   "cell_type": "code",
   "execution_count": 3,
   "metadata": {},
   "outputs": [
    {
     "name": "stdout",
     "output_type": "stream",
     "text": [
      "[17, 14, 15, 16, 19, 16]\n"
     ]
    }
   ],
   "source": [
    "b = [val + number for val in a]\n",
    "print(b)"
   ]
  },
  {
   "cell_type": "markdown",
   "metadata": {},
   "source": [
    "Okay, but what about when we need to do this for a large list?"
   ]
  },
  {
   "cell_type": "code",
   "execution_count": 4,
   "metadata": {},
   "outputs": [],
   "source": [
    "num_points = 100000\n",
    "a = [random() for i in range(num_points)] "
   ]
  },
  {
   "cell_type": "code",
   "execution_count": 5,
   "metadata": {},
   "outputs": [
    {
     "name": "stdout",
     "output_type": "stream",
     "text": [
      "5.08 ms ± 121 µs per loop (mean ± std. dev. of 7 runs, 100 loops each)\n"
     ]
    }
   ],
   "source": [
    "%timeit [val + number for val in a]"
   ]
  },
  {
   "cell_type": "markdown",
   "metadata": {},
   "source": [
    "Now using numpy arrays"
   ]
  },
  {
   "cell_type": "code",
   "execution_count": 6,
   "metadata": {},
   "outputs": [
    {
     "data": {
      "text/plain": [
       "(dtype('float64'), (100000,))"
      ]
     },
     "execution_count": 6,
     "metadata": {},
     "output_type": "execute_result"
    }
   ],
   "source": [
    "a = np.array(a)\n",
    "a.dtype, a.shape"
   ]
  },
  {
   "cell_type": "code",
   "execution_count": 7,
   "metadata": {},
   "outputs": [
    {
     "name": "stdout",
     "output_type": "stream",
     "text": [
      "32.4 µs ± 1.28 µs per loop (mean ± std. dev. of 7 runs, 10000 loops each)\n"
     ]
    }
   ],
   "source": [
    "%timeit a + number"
   ]
  },
  {
   "cell_type": "markdown",
   "metadata": {},
   "source": [
    "this is the same thing as"
   ]
  },
  {
   "cell_type": "code",
   "execution_count": 8,
   "metadata": {},
   "outputs": [
    {
     "name": "stdout",
     "output_type": "stream",
     "text": [
      "31.4 µs ± 1.17 µs per loop (mean ± std. dev. of 7 runs, 10000 loops each)\n"
     ]
    }
   ],
   "source": [
    "%timeit np.add(a, number)"
   ]
  },
  {
   "cell_type": "markdown",
   "metadata": {},
   "source": [
    "Other ufuncs are listed here https://docs.scipy.org/doc/numpy-1.15.1/reference/ufuncs.html\n",
    "\n",
    "For example, the trig functions"
   ]
  },
  {
   "cell_type": "code",
   "execution_count": 9,
   "metadata": {},
   "outputs": [
    {
     "data": {
      "image/png": "[encoded data removed]",
      "text/plain": [
       "<Figure size 432x288 with 1 Axes>"
      ]
     },
     "metadata": {
      "needs_background": "light"
     },
     "output_type": "display_data"
    }
   ],
   "source": [
    "x = np.linspace(0, np.pi, 100)\n",
    "plt.plot(x, np.sin(x*np.pi));"
   ]
  },
  {
   "cell_type": "markdown",
   "metadata": {},
   "source": [
    "# aggregations"
   ]
  },
  {
   "cell_type": "markdown",
   "metadata": {},
   "source": []
  },
  {
   "cell_type": "code",
   "execution_count": 10,
   "metadata": {},
   "outputs": [
    {
     "name": "stdout",
     "output_type": "stream",
     "text": [
      "1.21 ms ± 18.7 µs per loop (mean ± std. dev. of 7 runs, 1000 loops each)\n"
     ]
    }
   ],
   "source": [
    "a = [random() for i in range(num_points)]\n",
    "%timeit min(a)"
   ]
  },
  {
   "cell_type": "code",
   "execution_count": 11,
   "metadata": {},
   "outputs": [
    {
     "name": "stdout",
     "output_type": "stream",
     "text": [
      "27 µs ± 1.06 µs per loop (mean ± std. dev. of 7 runs, 10000 loops each)\n"
     ]
    }
   ],
   "source": [
    "a = np.array(a)\n",
    "%timeit a.min()"
   ]
  },
  {
   "cell_type": "markdown",
   "metadata": {},
   "source": [
    "### Other aggregation functions\n",
    "\n",
    "np.sum, np.mean, np.std, np.var, np.percentile, np.median (also, np.nansum, np.nanmean, etc...)"
   ]
  },
  {
   "cell_type": "markdown",
   "metadata": {},
   "source": [
    "### Now, in multiple dimensions"
   ]
  },
  {
   "cell_type": "code",
   "execution_count": 12,
   "metadata": {},
   "outputs": [
    {
     "data": {
      "text/plain": [
       "array([[6, 4, 6, 4, 6],\n",
       "       [2, 2, 6, 0, 4],\n",
       "       [1, 4, 7, 5, 0]])"
      ]
     },
     "execution_count": 12,
     "metadata": {},
     "output_type": "execute_result"
    }
   ],
   "source": [
    "M = np.random.randint(0, 10, (3, 5))\n",
    "M"
   ]
  },
  {
   "cell_type": "code",
   "execution_count": 13,
   "metadata": {},
   "outputs": [
    {
     "data": {
      "text/plain": [
       "(3, 5)"
      ]
     },
     "execution_count": 13,
     "metadata": {},
     "output_type": "execute_result"
    }
   ],
   "source": [
    "M.shape"
   ]
  },
  {
   "cell_type": "code",
   "execution_count": 14,
   "metadata": {},
   "outputs": [
    {
     "name": "stdout",
     "output_type": "stream",
     "text": [
      "[6 2 1] [6 4 6 4 6]\n"
     ]
    }
   ],
   "source": [
    "print(M[:, 0], M[0, :])"
   ]
  },
  {
   "cell_type": "code",
   "execution_count": 15,
   "metadata": {},
   "outputs": [
    {
     "data": {
      "text/plain": [
       "array([ 9, 10, 19,  9, 10])"
      ]
     },
     "execution_count": 15,
     "metadata": {},
     "output_type": "execute_result"
    }
   ],
   "source": [
    "np.sum(M, axis=0)"
   ]
  },
  {
   "cell_type": "code",
   "execution_count": 16,
   "metadata": {},
   "outputs": [
    {
     "data": {
      "text/plain": [
       "array([ 9, 10, 19,  9, 10])"
      ]
     },
     "execution_count": 16,
     "metadata": {},
     "output_type": "execute_result"
    }
   ],
   "source": [
    "M.sum(axis=0)"
   ]
  },
  {
   "cell_type": "code",
   "execution_count": 17,
   "metadata": {},
   "outputs": [
    {
     "data": {
      "text/plain": [
       "array([26, 14, 17])"
      ]
     },
     "execution_count": 17,
     "metadata": {},
     "output_type": "execute_result"
    }
   ],
   "source": [
    "M.sum(axis=1)"
   ]
  },
  {
   "cell_type": "markdown",
   "metadata": {},
   "source": [
    "# astropy tables"
   ]
  },
  {
   "cell_type": "code",
   "execution_count": 18,
   "metadata": {},
   "outputs": [],
   "source": [
    "from astropy.table import Table"
   ]
  },
  {
   "cell_type": "code",
   "execution_count": 19,
   "metadata": {},
   "outputs": [
    {
     "name": "stdout",
     "output_type": "stream",
     "text": [
      "ra dec z\n",
      "247.21776900602217 25.597781603742483 0.04083067923784256\n",
      "213.324895894423 43.0186249699216 0.013429311104118824\n",
      "318.3042481077502 -0.366553265763487 0.02043907158076763\n",
      "259.53432413729126 56.73071221840958 0.02770909108221531\n",
      "240.50800769084185 15.677708103452426 0.032056428492069244\n",
      "155.83390685656238 41.39452222921626 0.05146477743983269\n",
      "179.88111026116113 -1.002677719409676 0.04739953204989433\n",
      "230.16767233111423 7.972027982265441 0.04862667992711067\n",
      "12.75611992049017 -0.3805938457291839 0.054849039763212204\n",
      "\n",
      "ra,dec\n",
      "247.28273,43.67173\n",
      "245.71466,43.726209999999995\n",
      "241.37653999999998,44.3357\n",
      "240.9165,43.98957\n",
      "240.88005,44.10985\n",
      "244.48317999999998,44.2905\n",
      "241.51961,44.69582\n",
      "242.29612999999998,44.35883\n",
      "239.49327999999997,43.96829\n"
     ]
    }
   ],
   "source": [
    "%%bash\n",
    "head nsa-sample.txt\n",
    "echo \n",
    "head greco-2018-lsgbs.csv"
   ]
  },
  {
   "cell_type": "code",
   "execution_count": 20,
   "metadata": {},
   "outputs": [],
   "source": [
    "nsa = Table.read('nsa-sample.txt', format='ascii')\n",
    "lsb = Table.read('greco-2018-lsgbs.csv')"
   ]
  },
  {
   "cell_type": "code",
   "execution_count": 21,
   "metadata": {},
   "outputs": [
    {
     "data": {
      "text/html": [
       "<i>Table length=10</i>\n",
       "<table id=\"table4514038784\" class=\"table-striped table-bordered table-condensed\">\n",
       "<thead><tr><th>ra</th><th>dec</th><th>z</th></tr></thead>\n",
       "<thead><tr><th>float64</th><th>float64</th><th>float64</th></tr></thead>\n",
       "<tr><td>247.21776900602217</td><td>25.597781603742483</td><td>0.04083067923784256</td></tr>\n",
       "<tr><td>213.324895894423</td><td>43.0186249699216</td><td>0.013429311104118824</td></tr>\n",
       "<tr><td>318.3042481077502</td><td>-0.366553265763487</td><td>0.02043907158076763</td></tr>\n",
       "<tr><td>259.53432413729126</td><td>56.73071221840958</td><td>0.02770909108221531</td></tr>\n",
       "<tr><td>240.50800769084185</td><td>15.677708103452426</td><td>0.032056428492069244</td></tr>\n",
       "<tr><td>155.83390685656238</td><td>41.39452222921626</td><td>0.05146477743983269</td></tr>\n",
       "<tr><td>179.88111026116113</td><td>-1.002677719409676</td><td>0.04739953204989433</td></tr>\n",
       "<tr><td>230.16767233111423</td><td>7.972027982265441</td><td>0.04862667992711067</td></tr>\n",
       "<tr><td>12.75611992049017</td><td>-0.3805938457291839</td><td>0.054849039763212204</td></tr>\n",
       "<tr><td>28.621052880258585</td><td>-16.707203231058884</td><td>0.03998105227947235</td></tr>\n",
       "</table>"
      ],
      "text/plain": [
       "<Table length=10>\n",
       "        ra                 dec                  z          \n",
       "     float64             float64             float64       \n",
       "------------------ ------------------- --------------------\n",
       "247.21776900602217  25.597781603742483  0.04083067923784256\n",
       "  213.324895894423    43.0186249699216 0.013429311104118824\n",
       " 318.3042481077502  -0.366553265763487  0.02043907158076763\n",
       "259.53432413729126   56.73071221840958  0.02770909108221531\n",
       "240.50800769084185  15.677708103452426 0.032056428492069244\n",
       "155.83390685656238   41.39452222921626  0.05146477743983269\n",
       "179.88111026116113  -1.002677719409676  0.04739953204989433\n",
       "230.16767233111423   7.972027982265441  0.04862667992711067\n",
       " 12.75611992049017 -0.3805938457291839 0.054849039763212204\n",
       "28.621052880258585 -16.707203231058884  0.03998105227947235"
      ]
     },
     "execution_count": 21,
     "metadata": {},
     "output_type": "execute_result"
    }
   ],
   "source": [
    "nsa[:10]"
   ]
  },
  {
   "cell_type": "code",
   "execution_count": 22,
   "metadata": {},
   "outputs": [
    {
     "data": {
      "text/html": [
       "&lt;Column name=&apos;z&apos; dtype=&apos;float64&apos; length=1000&gt;\n",
       "<table>\n",
       "<tr><td>0.04083067923784256</td></tr>\n",
       "<tr><td>0.013429311104118824</td></tr>\n",
       "<tr><td>0.02043907158076763</td></tr>\n",
       "<tr><td>0.02770909108221531</td></tr>\n",
       "<tr><td>0.032056428492069244</td></tr>\n",
       "<tr><td>0.05146477743983269</td></tr>\n",
       "<tr><td>0.04739953204989433</td></tr>\n",
       "<tr><td>0.04862667992711067</td></tr>\n",
       "<tr><td>0.054849039763212204</td></tr>\n",
       "<tr><td>0.03998105227947235</td></tr>\n",
       "<tr><td>0.04267929866909981</td></tr>\n",
       "<tr><td>0.029944445937871933</td></tr>\n",
       "<tr><td>...</td></tr>\n",
       "<tr><td>0.04056129232048988</td></tr>\n",
       "<tr><td>0.010756932199001312</td></tr>\n",
       "<tr><td>0.033824410289525986</td></tr>\n",
       "<tr><td>0.03400024026632309</td></tr>\n",
       "<tr><td>0.03109750524163246</td></tr>\n",
       "<tr><td>0.05430879443883896</td></tr>\n",
       "<tr><td>0.021189061924815178</td></tr>\n",
       "<tr><td>0.02219485677778721</td></tr>\n",
       "<tr><td>0.024622896686196327</td></tr>\n",
       "<tr><td>0.039534203708171844</td></tr>\n",
       "<tr><td>0.05225769057869911</td></tr>\n",
       "<tr><td>0.029072612524032593</td></tr>\n",
       "</table>"
      ],
      "text/plain": [
       "<Column name='z' dtype='float64' length=1000>\n",
       " 0.04083067923784256\n",
       "0.013429311104118824\n",
       " 0.02043907158076763\n",
       " 0.02770909108221531\n",
       "0.032056428492069244\n",
       " 0.05146477743983269\n",
       " 0.04739953204989433\n",
       " 0.04862667992711067\n",
       "0.054849039763212204\n",
       " 0.03998105227947235\n",
       " 0.04267929866909981\n",
       "0.029944445937871933\n",
       "                 ...\n",
       " 0.04056129232048988\n",
       "0.010756932199001312\n",
       "0.033824410289525986\n",
       " 0.03400024026632309\n",
       " 0.03109750524163246\n",
       " 0.05430879443883896\n",
       "0.021189061924815178\n",
       " 0.02219485677778721\n",
       "0.024622896686196327\n",
       "0.039534203708171844\n",
       " 0.05225769057869911\n",
       "0.029072612524032593"
      ]
     },
     "execution_count": 22,
     "metadata": {},
     "output_type": "execute_result"
    }
   ],
   "source": [
    "nsa['z']"
   ]
  },
  {
   "cell_type": "markdown",
   "metadata": {},
   "source": [
    "# astropy SkyCoord is super useful!"
   ]
  },
  {
   "cell_type": "code",
   "execution_count": 23,
   "metadata": {},
   "outputs": [],
   "source": [
    "from astropy.coordinates import SkyCoord"
   ]
  },
  {
   "cell_type": "code",
   "execution_count": 24,
   "metadata": {},
   "outputs": [],
   "source": [
    "nsa_coord = SkyCoord(nsa['ra'], nsa['dec'], unit='deg')\n",
    "lsb_coord = SkyCoord(lsb['ra'], lsb['dec'], unit='deg')"
   ]
  },
  {
   "cell_type": "markdown",
   "metadata": {},
   "source": [
    "crossmatch catalogs"
   ]
  },
  {
   "cell_type": "code",
   "execution_count": 25,
   "metadata": {},
   "outputs": [],
   "source": [
    "idx, sep, _ = lsb_coord.match_to_catalog_sky(nsa_coord)"
   ]
  },
  {
   "cell_type": "markdown",
   "metadata": {},
   "source": [
    "find all sources separated by 2 degrees (a crazy large angle just for this example)"
   ]
  },
  {
   "cell_type": "code",
   "execution_count": 26,
   "metadata": {},
   "outputs": [],
   "source": [
    "match_mask = sep.degree < 2.0"
   ]
  },
  {
   "cell_type": "markdown",
   "metadata": {},
   "source": [
    "this creates a boolean mask"
   ]
  },
  {
   "cell_type": "code",
   "execution_count": 27,
   "metadata": {},
   "outputs": [
    {
     "data": {
      "text/plain": [
       "array([False,  True,  True,  True,  True,  True,  True,  True,  True,\n",
       "        True])"
      ]
     },
     "execution_count": 27,
     "metadata": {},
     "output_type": "execute_result"
    }
   ],
   "source": [
    "match_mask[:10]"
   ]
  },
  {
   "cell_type": "markdown",
   "metadata": {},
   "source": [
    "the number of \"matched\" sources is given by the sum"
   ]
  },
  {
   "cell_type": "code",
   "execution_count": 28,
   "metadata": {},
   "outputs": [
    {
     "data": {
      "text/plain": [
       "568"
      ]
     },
     "execution_count": 28,
     "metadata": {},
     "output_type": "execute_result"
    }
   ],
   "source": [
    "match_mask.sum()"
   ]
  },
  {
   "cell_type": "markdown",
   "metadata": {},
   "source": [
    "can get the matched nsa galaxies using **fancy indexing** with the index array `idx`"
   ]
  },
  {
   "cell_type": "code",
   "execution_count": 29,
   "metadata": {},
   "outputs": [
    {
     "data": {
      "text/html": [
       "<i>Table length=781</i>\n",
       "<table id=\"table34937902136\" class=\"table-striped table-bordered table-condensed\">\n",
       "<thead><tr><th>ra</th><th>dec</th><th>z</th></tr></thead>\n",
       "<thead><tr><th>float64</th><th>float64</th><th>float64</th></tr></thead>\n",
       "<tr><td>245.0385994810276</td><td>42.06656513467549</td><td>0.03480241820216179</td></tr>\n",
       "<tr><td>245.0385994810276</td><td>42.06656513467549</td><td>0.03480241820216179</td></tr>\n",
       "<tr><td>240.48256980335452</td><td>44.97176062669269</td><td>0.03879241645336151</td></tr>\n",
       "<tr><td>240.48256980335452</td><td>44.97176062669269</td><td>0.03879241645336151</td></tr>\n",
       "<tr><td>240.48256980335452</td><td>44.97176062669269</td><td>0.03879241645336151</td></tr>\n",
       "<tr><td>244.05033167943924</td><td>42.399811571802864</td><td>0.023163335397839546</td></tr>\n",
       "<tr><td>240.48256980335452</td><td>44.97176062669269</td><td>0.03879241645336151</td></tr>\n",
       "<tr><td>240.48256980335452</td><td>44.97176062669269</td><td>0.03879241645336151</td></tr>\n",
       "<tr><td>240.48256980335452</td><td>44.97176062669269</td><td>0.03879241645336151</td></tr>\n",
       "<tr><td>240.48256980335452</td><td>44.97176062669269</td><td>0.03879241645336151</td></tr>\n",
       "<tr><td>...</td><td>...</td><td>...</td></tr>\n",
       "<tr><td>140.09227618697966</td><td>0.822337536425958</td><td>0.01782509870827198</td></tr>\n",
       "<tr><td>140.09227618697966</td><td>0.822337536425958</td><td>0.01782509870827198</td></tr>\n",
       "<tr><td>135.80276102051738</td><td>-0.7529844320073527</td><td>0.048306602984666824</td></tr>\n",
       "<tr><td>135.80276102051738</td><td>-0.7529844320073527</td><td>0.048306602984666824</td></tr>\n",
       "<tr><td>135.80276102051738</td><td>-0.7529844320073527</td><td>0.048306602984666824</td></tr>\n",
       "<tr><td>135.80276102051738</td><td>-0.7529844320073527</td><td>0.048306602984666824</td></tr>\n",
       "<tr><td>135.80276102051738</td><td>-0.7529844320073527</td><td>0.048306602984666824</td></tr>\n",
       "<tr><td>135.80276102051738</td><td>-0.7529844320073527</td><td>0.048306602984666824</td></tr>\n",
       "<tr><td>135.80276102051738</td><td>-0.7529844320073527</td><td>0.048306602984666824</td></tr>\n",
       "<tr><td>245.0385994810276</td><td>42.06656513467549</td><td>0.03480241820216179</td></tr>\n",
       "</table>"
      ],
      "text/plain": [
       "<Table length=781>\n",
       "        ra                 dec                  z          \n",
       "     float64             float64             float64       \n",
       "------------------ ------------------- --------------------\n",
       " 245.0385994810276   42.06656513467549  0.03480241820216179\n",
       " 245.0385994810276   42.06656513467549  0.03480241820216179\n",
       "240.48256980335452   44.97176062669269  0.03879241645336151\n",
       "240.48256980335452   44.97176062669269  0.03879241645336151\n",
       "240.48256980335452   44.97176062669269  0.03879241645336151\n",
       "244.05033167943924  42.399811571802864 0.023163335397839546\n",
       "240.48256980335452   44.97176062669269  0.03879241645336151\n",
       "240.48256980335452   44.97176062669269  0.03879241645336151\n",
       "240.48256980335452   44.97176062669269  0.03879241645336151\n",
       "240.48256980335452   44.97176062669269  0.03879241645336151\n",
       "               ...                 ...                  ...\n",
       "140.09227618697966   0.822337536425958  0.01782509870827198\n",
       "140.09227618697966   0.822337536425958  0.01782509870827198\n",
       "135.80276102051738 -0.7529844320073527 0.048306602984666824\n",
       "135.80276102051738 -0.7529844320073527 0.048306602984666824\n",
       "135.80276102051738 -0.7529844320073527 0.048306602984666824\n",
       "135.80276102051738 -0.7529844320073527 0.048306602984666824\n",
       "135.80276102051738 -0.7529844320073527 0.048306602984666824\n",
       "135.80276102051738 -0.7529844320073527 0.048306602984666824\n",
       "135.80276102051738 -0.7529844320073527 0.048306602984666824\n",
       " 245.0385994810276   42.06656513467549  0.03480241820216179"
      ]
     },
     "execution_count": 29,
     "metadata": {},
     "output_type": "execute_result"
    }
   ],
   "source": [
    "nsa[idx]"
   ]
  },
  {
   "cell_type": "markdown",
   "metadata": {},
   "source": [
    "can combine the boolean mask with the index array to get the matched sources within 2 degrees"
   ]
  },
  {
   "cell_type": "code",
   "execution_count": 30,
   "metadata": {},
   "outputs": [
    {
     "data": {
      "text/html": [
       "<i>Table length=568</i>\n",
       "<table id=\"table4838255976\" class=\"table-striped table-bordered table-condensed\">\n",
       "<thead><tr><th>ra</th><th>dec</th><th>z</th></tr></thead>\n",
       "<thead><tr><th>float64</th><th>float64</th><th>float64</th></tr></thead>\n",
       "<tr><td>245.0385994810276</td><td>42.06656513467549</td><td>0.03480241820216179</td></tr>\n",
       "<tr><td>240.48256980335452</td><td>44.97176062669269</td><td>0.03879241645336151</td></tr>\n",
       "<tr><td>240.48256980335452</td><td>44.97176062669269</td><td>0.03879241645336151</td></tr>\n",
       "<tr><td>240.48256980335452</td><td>44.97176062669269</td><td>0.03879241645336151</td></tr>\n",
       "<tr><td>244.05033167943924</td><td>42.399811571802864</td><td>0.023163335397839546</td></tr>\n",
       "<tr><td>240.48256980335452</td><td>44.97176062669269</td><td>0.03879241645336151</td></tr>\n",
       "<tr><td>240.48256980335452</td><td>44.97176062669269</td><td>0.03879241645336151</td></tr>\n",
       "<tr><td>240.48256980335452</td><td>44.97176062669269</td><td>0.03879241645336151</td></tr>\n",
       "<tr><td>240.48256980335452</td><td>44.97176062669269</td><td>0.03879241645336151</td></tr>\n",
       "<tr><td>236.9843423954003</td><td>44.96270666044792</td><td>0.03823547810316086</td></tr>\n",
       "<tr><td>...</td><td>...</td><td>...</td></tr>\n",
       "<tr><td>140.09227618697966</td><td>0.822337536425958</td><td>0.01782509870827198</td></tr>\n",
       "<tr><td>140.09227618697966</td><td>0.822337536425958</td><td>0.01782509870827198</td></tr>\n",
       "<tr><td>135.80276102051738</td><td>-0.7529844320073527</td><td>0.048306602984666824</td></tr>\n",
       "<tr><td>135.80276102051738</td><td>-0.7529844320073527</td><td>0.048306602984666824</td></tr>\n",
       "<tr><td>135.80276102051738</td><td>-0.7529844320073527</td><td>0.048306602984666824</td></tr>\n",
       "<tr><td>135.80276102051738</td><td>-0.7529844320073527</td><td>0.048306602984666824</td></tr>\n",
       "<tr><td>135.80276102051738</td><td>-0.7529844320073527</td><td>0.048306602984666824</td></tr>\n",
       "<tr><td>135.80276102051738</td><td>-0.7529844320073527</td><td>0.048306602984666824</td></tr>\n",
       "<tr><td>135.80276102051738</td><td>-0.7529844320073527</td><td>0.048306602984666824</td></tr>\n",
       "<tr><td>245.0385994810276</td><td>42.06656513467549</td><td>0.03480241820216179</td></tr>\n",
       "</table>"
      ],
      "text/plain": [
       "<Table length=568>\n",
       "        ra                 dec                  z          \n",
       "     float64             float64             float64       \n",
       "------------------ ------------------- --------------------\n",
       " 245.0385994810276   42.06656513467549  0.03480241820216179\n",
       "240.48256980335452   44.97176062669269  0.03879241645336151\n",
       "240.48256980335452   44.97176062669269  0.03879241645336151\n",
       "240.48256980335452   44.97176062669269  0.03879241645336151\n",
       "244.05033167943924  42.399811571802864 0.023163335397839546\n",
       "240.48256980335452   44.97176062669269  0.03879241645336151\n",
       "240.48256980335452   44.97176062669269  0.03879241645336151\n",
       "240.48256980335452   44.97176062669269  0.03879241645336151\n",
       "240.48256980335452   44.97176062669269  0.03879241645336151\n",
       " 236.9843423954003   44.96270666044792  0.03823547810316086\n",
       "               ...                 ...                  ...\n",
       "140.09227618697966   0.822337536425958  0.01782509870827198\n",
       "140.09227618697966   0.822337536425958  0.01782509870827198\n",
       "135.80276102051738 -0.7529844320073527 0.048306602984666824\n",
       "135.80276102051738 -0.7529844320073527 0.048306602984666824\n",
       "135.80276102051738 -0.7529844320073527 0.048306602984666824\n",
       "135.80276102051738 -0.7529844320073527 0.048306602984666824\n",
       "135.80276102051738 -0.7529844320073527 0.048306602984666824\n",
       "135.80276102051738 -0.7529844320073527 0.048306602984666824\n",
       "135.80276102051738 -0.7529844320073527 0.048306602984666824\n",
       " 245.0385994810276   42.06656513467549  0.03480241820216179"
      ]
     },
     "execution_count": 30,
     "metadata": {},
     "output_type": "execute_result"
    }
   ],
   "source": [
    "nsa[idx[match_mask]]"
   ]
  }
 ],
 "metadata": {
  "kernelspec": {
   "display_name": "Python 3",
   "language": "python",
   "name": "python3"
  },
  "language_info": {
   "codemirror_mode": {
    "name": "ipython",
    "version": 3
   },
   "file_extension": ".py",
   "mimetype": "text/x-python",
   "name": "python",
   "nbconvert_exporter": "python",
   "pygments_lexer": "ipython3",
   "version": "3.6.6"
  }
 },
 "nbformat": 4,
 "nbformat_minor": 2
}
