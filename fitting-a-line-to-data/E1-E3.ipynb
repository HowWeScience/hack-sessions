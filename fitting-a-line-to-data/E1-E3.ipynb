{
 "cells": [
  {
   "cell_type": "markdown",
   "metadata": {},
   "source": [
    "# Hack Session: Fitting a line to data\n",
    "### with [Hogg, Bovy, & Lang 2010](https://arxiv.org/pdf/1008.4686.pdf) as our guide"
   ]
  },
  {
   "cell_type": "code",
   "execution_count": 1,
   "metadata": {},
   "outputs": [],
   "source": [
    "%config InlineBackend.figure_format = 'retina'\n",
    "import numpy as np\n",
    "import matplotlib.pyplot as plt"
   ]
  },
  {
   "cell_type": "markdown",
   "metadata": {},
   "source": [
    "### Optimizing the objective function with matrix calculus\n",
    "\n",
    "Our goal is to study the problem of fitting a line to data using Hogg, Bovy, & Lang (2010; HBL) as our guide. We will assume we have a set of $N > 2$ points ($x_i$, $y_i$) with known, *uncorrelated* Gaussian uncertainties $\\sigma_{y_i}$ in the $y$ direction, and zero uncertainty in the $x$ direction (or at least negligible uncertainty compared to the $y$ direction). We are in search of a function $f(x)$ of the form\n",
    "\n",
    "$$\n",
    "f(x) = m x + b,\n",
    "$$\n",
    "\n",
    "where $m$ is the slope and $b$ is the intercept, that best fits the points. We will accomplish this by minimizing the objective function \n",
    "\n",
    "$$\n",
    "\\chi^2 = \n",
    "\\sum_{i=1}^N \\frac{\\left[y_i - f(x_i)\\right]^2}{\\sigma_{y_i}^2}.\n",
    "$$\n",
    "\n",
    "As HBL point out, this choice of objective function is not arbitrary. We showed at our last meeting that minimizing $\\chi^2$ is equivalent (given our assumptions above) to maximizing the likelihood $\\mathcal{L}$, since $\\chi^2 = -2 \\ln \\mathcal{L}$ \n",
    "\n",
    "Following HBL, we will use the power of linear algebra to simplify and generalize our calculations. First, we let's write our model as a matrix equation:\n",
    "\n",
    "$$\n",
    "\\boldsymbol{Y} = \\boldsymbol{X}\\,\\boldsymbol{\\theta},  \n",
    "$$\n",
    "\n",
    "where\n",
    "\n",
    "$$\n",
    "\\boldsymbol{Y} = \n",
    "\\begin{bmatrix}\n",
    "y_1 \\\\\n",
    "y_2 \\\\\n",
    "\\vdots \\\\\n",
    "y_N\n",
    "\\end{bmatrix}  \\quad \n",
    "\\boldsymbol{X} = \n",
    "\\begin{bmatrix}\n",
    "1 & x_1 \\\\\n",
    "1 & x_2 \\\\\n",
    "\\vdots & \\vdots \\\\ \n",
    "1 & x_N\n",
    "\\end{bmatrix} \\quad\n",
    "\\boldsymbol{\\theta} = \n",
    "\\begin{bmatrix}\n",
    "b \\\\\n",
    "m \n",
    "\\end{bmatrix} \n",
    "$$\n",
    "\n",
    "**Note:** This is different from HBL's notation, who have $\\boldsymbol{X}\\rightarrow\\boldsymbol{A}$ and $\\boldsymbol{\\theta}\\rightarrow\\boldsymbol{X}$, which seems like a strange choice to me. \n",
    "\n",
    "$\\boldsymbol{\\theta}$ is our parameter vector, and $\\boldsymbol{X}$ is often called the *design matrix*. To express our uncertainties, we use the $N\\times N$ *covariance matrix*\n",
    "\n",
    "$$\n",
    "\\boldsymbol{C} = \n",
    "\\begin{bmatrix}\n",
    "\\sigma_{y_1}^{2} & 0 & \\dots & 0 \\\\\n",
    "0 & \\sigma_{y_2}^{2} & \\dots & 0 \\\\\n",
    "\\vdots & \\vdots & \\ddots & \\vdots \\\\\n",
    "0 & 0 & \\cdots & \\sigma_{y_N}^{2}\n",
    "\\end{bmatrix},\n",
    "$$\n",
    "\n",
    "where the diagonal terms are the *variances* of our measurements. Since we have assumed our uncertainties are uncorrelated, all the off-diagonal terms are zero. With this notation, we can express our objective function as\n",
    "\n",
    "$$\n",
    "\\chi^2 = \\left(\\boldsymbol{Y}-\\boldsymbol{X}\\,\\boldsymbol{\\theta}\\right)^\\mathsf{\\,T}\n",
    " \\,\\boldsymbol{C}^{\\,-1}\\,\\left(\\boldsymbol{Y}-\\boldsymbol{X}\\,\\boldsymbol{\\theta}\\right).\n",
    "$$\n",
    "\n",
    "\n",
    "By taking the derivative with respect to $\\boldsymbol{\\theta}$ and setting the result to zero, one can show that the best-fit solution is given by\n",
    "\n",
    "$$\n",
    "\\boldsymbol{\\theta}_\\mathrm{best} = \\left[\\boldsymbol{X}^\\mathsf{\\,T} \\, \\boldsymbol{C}^{\\,-1} \\, \\boldsymbol{X}\\right]^{\\,-1} \\, \n",
    "    \\boldsymbol{X}^\\mathsf{\\,T} \\, \\boldsymbol{C}^{\\,-1} \\, \\boldsymbol{Y}.\n",
    "$$"
   ]
  },
  {
   "cell_type": "markdown",
   "metadata": {},
   "source": [
    "When the uncertainties are Gaussian and their variances $\\sigma_{y_i}^2$ are correctly estimated, the $2\\times 2$ covariance matrix on our best-fit parameters is given by the first term on the right side of the above expression:\n",
    "\n",
    "$$\n",
    "\\Sigma = \\left[\\boldsymbol{X}^\\mathsf{\\,T} \\, \\boldsymbol{C}^{\\,-1}\\boldsymbol{X}\\right]^{\\,-1}.\n",
    "$$"
   ]
  },
  {
   "cell_type": "markdown",
   "metadata": {},
   "source": [
    "Alright, we have everything we need to do the first three exercises of HBL, so let's go! \n",
    "\n",
    "To help you out, here's the data from Table 1 of HBL stored as a [structured array](https://docs.scipy.org/doc/numpy-1.15.0/user/basics.rec.html)"
   ]
  },
  {
   "cell_type": "code",
   "execution_count": 2,
   "metadata": {},
   "outputs": [
    {
     "data": {
      "image/png": "[encoded data removed]",
      "text/plain": [
       "<Figure size 432x288 with 1 Axes>"
      ]
     },
     "metadata": {
      "image/png": {
       "height": 263,
       "width": 390
      },
      "needs_background": "light"
     },
     "output_type": "display_data"
    }
   ],
   "source": [
    "columns = [('id', int), ('x', float), ('y', float), \n",
    "           ('sig_y', float), ('sig_x', float), ('rho_xy', float)]\n",
    "\n",
    "table = np.array(\n",
    "    [(1, 201, 592, 61, 9, -0.84),\n",
    "    (2, 244, 401, 25, 4, 0.31),\n",
    "    (3, 47, 583, 38, 11, 0.64),\n",
    "    (4, 287, 402, 15, 7, -0.27),\n",
    "    (5, 203, 495, 21, 5, -0.33),\n",
    "    (6, 58, 173, 15, 9, 0.67),\n",
    "    (7, 210, 479, 27, 4, -0.02),\n",
    "    (8, 202, 504, 14, 4, -0.05),\n",
    "    (9, 198, 510, 30, 11, -0.84),\n",
    "    (10, 158, 416, 16, 7, -0.69),\n",
    "    (11, 165, 393, 14, 5, 0.30),\n",
    "    (12, 201, 442, 25, 5, -0.46),\n",
    "    (13, 157, 317, 52, 5, -0.03),\n",
    "    (14, 131, 311, 16, 6, 0.50),\n",
    "    (15, 166, 400, 34, 6, 0.73),\n",
    "    (16, 160, 337, 31, 5, -0.52),\n",
    "    (17, 186, 423, 42, 9, 0.90),\n",
    "    (18, 125, 334, 26, 8, 0.40),\n",
    "    (19, 218, 533, 16, 6, -0.78),\n",
    "    (20, 146, 344, 22, 5, -0.56)],\n",
    "    dtype=columns)\n",
    "\n",
    "plt.errorbar(table['x'], table['y'], yerr=table['sig_y'], fmt='ko')\n",
    "plt.xlabel('x')\n",
    "plt.ylabel('y');"
   ]
  },
  {
   "cell_type": "markdown",
   "metadata": {},
   "source": [
    "## Some helpful functions to know about"
   ]
  },
  {
   "cell_type": "code",
   "execution_count": 3,
   "metadata": {},
   "outputs": [
    {
     "name": "stdout",
     "output_type": "stream",
     "text": [
      "[[  1. 201.]\n",
      " [  1. 244.]\n",
      " [  1.  47.]\n",
      " [  1. 287.]\n",
      " [  1. 203.]\n",
      " [  1.  58.]\n",
      " [  1. 210.]\n",
      " [  1. 202.]\n",
      " [  1. 198.]\n",
      " [  1. 158.]\n",
      " [  1. 165.]\n",
      " [  1. 201.]\n",
      " [  1. 157.]\n",
      " [  1. 131.]\n",
      " [  1. 166.]\n",
      " [  1. 160.]\n",
      " [  1. 186.]\n",
      " [  1. 125.]\n",
      " [  1. 218.]\n",
      " [  1. 146.]]\n"
     ]
    }
   ],
   "source": [
    "print(np.vander(table['x'], N=2, increasing=True))"
   ]
  },
  {
   "cell_type": "markdown",
   "metadata": {},
   "source": [
    "Look, that's the design matrix!!!"
   ]
  },
  {
   "cell_type": "code",
   "execution_count": 4,
   "metadata": {},
   "outputs": [],
   "source": [
    "C = np.diag(table['sig_y']**2) # here's the covariance matrix!!!\n",
    "Cinv = np.linalg.inv(C)        # and its inverse!!!"
   ]
  },
  {
   "cell_type": "markdown",
   "metadata": {},
   "source": [
    "## Exercise 1\n",
    "\n",
    "Using the standard linear algebra method, fit the straight line $y = mx + b$ to the $x$, $y$, and $\\sigma_y$ values for data points 5 through 20 in Table 1 on page 6. That is, ignore the first four data points, and also ignore the columns for $\\sigma_x$ and $\\rho_{xy}$. Make a plot showing the points, their uncertainties, and the best-fit line. Your plot should end up looking like Figure 1 of HBL. What is the standard uncertainty variance $\\sigma_m^2$ on the slope of the line?"
   ]
  },
  {
   "cell_type": "code",
   "execution_count": null,
   "metadata": {},
   "outputs": [],
   "source": []
  },
  {
   "cell_type": "markdown",
   "metadata": {},
   "source": [
    "## Exercise 2\n",
    "\n",
    "Repeat Exercise 1 but for all the data points in Table 1 on page 6. Your plot should end up looking like Figure 2 of HBL. What is the standard uncertainty variance $\\sigma_m^2$ on the slope of the line? Is there anything you don’t like about the result? Is there anything different about the new points you have included beyond those used in Exercise 1?"
   ]
  },
  {
   "cell_type": "code",
   "execution_count": null,
   "metadata": {},
   "outputs": [],
   "source": []
  },
  {
   "cell_type": "markdown",
   "metadata": {},
   "source": [
    "## Exercise 3\n",
    "\n",
    "Generalize the method to fit a general quadratic (second order) relationship. Add another column to matrix $\\boldsymbol{X}$ containing the values $x^2_i$, and another element to vector $\\boldsymbol{\\theta}$ (call it $q$). Then, re-do Exercise 1 but fitting for and plotting the best quadratic relationship\n",
    "\n",
    "$$\n",
    "g(x) = q x^2 + m x + b.\n",
    "$$\n",
    "\n",
    "Your plot should end up looking like Figure 3 of HBL."
   ]
  },
  {
   "cell_type": "code",
   "execution_count": null,
   "metadata": {},
   "outputs": [],
   "source": []
  }
 ],
 "metadata": {
  "kernelspec": {
   "display_name": "Python 3",
   "language": "python",
   "name": "python3"
  },
  "language_info": {
   "codemirror_mode": {
    "name": "ipython",
    "version": 3
   },
   "file_extension": ".py",
   "mimetype": "text/x-python",
   "name": "python",
   "nbconvert_exporter": "python",
   "pygments_lexer": "ipython3",
   "version": "3.6.6"
  }
 },
 "nbformat": 4,
 "nbformat_minor": 2
}
